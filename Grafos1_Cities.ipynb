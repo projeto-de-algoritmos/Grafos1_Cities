{
 "cells": [
  {
   "cell_type": "markdown",
   "metadata": {},
   "source": [
    "**Autores**: \n",
    "1. Caio Fernandes - 170138798\n",
    "2. Lucas Dutras - 170050939\n",
    "\n",
    "Este projeto tem como objetivo utilizar `jupyter notebook` e a biblioteca `pandas` juntamente com o conteúdo de **Percorrer Grafos** para indicar qual o caminho mais rápido para chegar em um país a partir de um país inicial.\n",
    "\n",
    "Utilizaremos para isso dois datasets disponibilizados no Kaggle com informações sobre [Países e Fronteiras](https://www.kaggle.com/resheto/country-borders) e [Países e Continentes](https://www.kaggle.com/tomvebrcz/countriesandcontinents)."
   ]
  },
  {
   "cell_type": "code",
   "execution_count": 24,
   "metadata": {
    "scrolled": true
   },
   "outputs": [],
   "source": [
    "from metaflow import Flow, get_metadata\n",
    "from collections import defaultdict\n",
    "from holoviews import opts\n",
    "import pandas as pd\n",
    "import networkx as nx\n",
    "import matplotlib.pyplot as plt\n",
    "import numpy as np\n",
    "import pandas as pd\n",
    "import holoviews as hv\n",
    "import networkx as nx\n",
    "import ipywidgets as widgets\n",
    "from ipywidgets import interact_manual"
   ]
  },
  {
   "cell_type": "code",
   "execution_count": 6,
   "metadata": {
    "scrolled": true
   },
   "outputs": [],
   "source": [
    "run = Flow('TouristPreProcessing').latest_successful_run"
   ]
  },
  {
   "cell_type": "markdown",
   "metadata": {},
   "source": [
    "# Bem-vindo ao Turista!\n",
    "Turista é uma aplicação para quem quer fazer viagens internacionais sem apreciando a paisagem de cada país! Insira o país de origem e o país de destino e descubra a melhor rota para sua viagem!\n",
    "![mapa](data/mundi.jpg)|"
   ]
  },
  {
   "cell_type": "markdown",
   "metadata": {},
   "source": [
    "# Implementando Lista de Adjacência para formar a rede de Grafo"
   ]
  },
  {
   "cell_type": "markdown",
   "metadata": {},
   "source": [
    "## Insira o nome do País de origem!"
   ]
  },
  {
   "cell_type": "code",
   "execution_count": 7,
   "metadata": {},
   "outputs": [],
   "source": [
    "def unique_sorted_values():\n",
    "    unique = run.data.df_border.country_name.unique()\n",
    "    unique.sort()\n",
    "    return unique\n",
    "start_dropdown_widget = widgets.Dropdown(options = unique_sorted_values())\n",
    "end_dropdown_widget = widgets.Dropdown(options = unique_sorted_values())"
   ]
  },
  {
   "cell_type": "code",
   "execution_count": 11,
   "metadata": {},
   "outputs": [],
   "source": [
    "graph = defaultdict(list)\n",
    "for item in run.data.df_border.country_name.unique():\n",
    "    graph[item] = run.data.df_border.border_list[run.data.df_border.country_name==item].item()"
   ]
  },
  {
   "cell_type": "markdown",
   "metadata": {},
   "source": [
    "# Aplicando busca em largura - Breadth First Search (BFS)"
   ]
  },
  {
   "cell_type": "code",
   "execution_count": 12,
   "metadata": {},
   "outputs": [],
   "source": [
    "def backtrace(parent, start, end):\n",
    "    path = [end]\n",
    "    while path[-1] != start:\n",
    "        path.append(parent[path[-1]])\n",
    "    path.reverse()\n",
    "    return path\n",
    "\n",
    "def bfs(graph, start, end):\n",
    "    visited = defaultdict()\n",
    "    parent = {}\n",
    "    queue = []\n",
    "    visited.clear()\n",
    "    visited[start] = True\n",
    "    queue.append(start)\n",
    "    while queue:\n",
    "        node = queue.pop(0)\n",
    "        if node == end:\n",
    "            return backtrace(parent, start, end)\n",
    "        for adjacent in graph.get(node, []):\n",
    "                if adjacent not in visited.keys():\n",
    "                    if node not in queue :\n",
    "                        parent[adjacent] = node # <<<<< record its parent \n",
    "                        queue.append(adjacent)\n",
    "                        visited[adjacent] = True\n",
    "\n",
    "                        \n",
    "country_path = bfs(graph, 'Brazil', 'Canada')\n",
    "if country_path:\n",
    "    resultant_tree = nx.Graph()\n",
    "    i, j = 0, 1\n",
    "    while j < len(country_path):\n",
    "        resultant_tree.add_edge(country_path[i], country_path[j])\n",
    "        i += 1\n",
    "        j += 1\n",
    "    file = open(\"data/happyTourist.png\", \"rb\")\n",
    "    image = file.read()\n",
    "    resultant_image = widgets.Image(\n",
    "                                value=image,\n",
    "                                format='png',\n",
    "                                width=300,\n",
    "                                height=400,\n",
    "                            )\n",
    "# else:\n",
    "#     file = open(\"data/sadTourist.png\", \"rb\")\n",
    "#     image = file.read()\n",
    "#     resultant_image = widgets.Image(\n",
    "#                                 value=image,\n",
    "#                                 format='png',\n",
    "#                                 width=300,\n",
    "#                                 height=400,\n",
    "#                             )"
   ]
  },
  {
   "cell_type": "code",
   "execution_count": 13,
   "metadata": {
    "scrolled": true
   },
   "outputs": [
    {
     "data": {
      "application/vnd.jupyter.widget-view+json": {
       "model_id": "31097123ffc14cb5865d1cdefb6c91ee",
       "version_major": 2,
       "version_minor": 0
      },
      "text/plain": [
       "Image(value=b'\\x89PNG\\r\\n\\x1a\\n\\x00\\x00\\x00\\rIHDR\\x00\\x00\\x02\\x9d\\x00\\x00\\x02\\x9a\\x08\\x06\\x00\\x00\\x00|\\xd0\\xe2…"
      ]
     },
     "metadata": {},
     "output_type": "display_data"
    }
   ],
   "source": [
    "resultant_image"
   ]
  },
  {
   "cell_type": "markdown",
   "metadata": {},
   "source": [
    "## Visualização da árvore resultante da busca em largura"
   ]
  },
  {
   "cell_type": "code",
   "execution_count": 14,
   "metadata": {},
   "outputs": [],
   "source": [
    "country_path = bfs(graph, 'Brazil', 'Colombia')"
   ]
  },
  {
   "cell_type": "code",
   "execution_count": 15,
   "metadata": {
    "scrolled": false
   },
   "outputs": [
    {
     "data": {
      "image/png": "[encoded data removed]",
      "text/plain": [
       "<Figure size 432x288 with 1 Axes>"
      ]
     },
     "metadata": {},
     "output_type": "display_data"
    }
   ],
   "source": [
    "if country_path:\n",
    "    nx.draw_networkx(resultant_tree)"
   ]
  },
  {
   "cell_type": "markdown",
   "metadata": {},
   "source": [
    "# Visualizando o grafo completo"
   ]
  },
  {
   "cell_type": "code",
   "execution_count": 16,
   "metadata": {},
   "outputs": [],
   "source": [
    "cities_graph = nx.Graph()\n",
    "\n",
    "cities_graph.add_nodes_from(list(graph.keys()))\n",
    "\n",
    "for city in list(graph.keys()):\n",
    "    for frontier in graph[city]:\n",
    "        cities_graph.add_edge(city,frontier)"
   ]
  },
  {
   "cell_type": "code",
   "execution_count": 17,
   "metadata": {},
   "outputs": [
    {
     "data": {
      "text/plain": [
       ":Graph   [start,end]"
      ]
     },
     "execution_count": 17,
     "metadata": {},
     "output_type": "execute_result"
    }
   ],
   "source": [
    "hv.Graph.from_networkx(cities_graph, nx.layout.spring_layout)"
   ]
  },
  {
   "cell_type": "markdown",
   "metadata": {},
   "source": [
    "## Utilizando jupyter widgets"
   ]
  },
  {
   "cell_type": "code",
   "execution_count": 31,
   "metadata": {},
   "outputs": [],
   "source": [
    "def on_click_bfs(start, end):\n",
    "    country_path = bfs(graph, start, end)\n",
    "    print(start, end)\n",
    "    print(country_path)\n",
    "    resultant_tree = nx.Graph()\n",
    "    if country_path:\n",
    "        \n",
    "        i, j = 0, 1\n",
    "        while j < len(country_path):\n",
    "            resultant_tree.add_edge(country_path[i], country_path[j])\n",
    "            i += 1\n",
    "            j += 1\n",
    "    if(country_path):\n",
    "        nx.draw_networkx(resultant_tree)\n",
    "    else:\n",
    "        print(\"Não há fronteiras entre estes países!\")"
   ]
  },
  {
   "cell_type": "code",
   "execution_count": 32,
   "metadata": {},
   "outputs": [],
   "source": [
    "out_pl = widgets.Output()\n",
    "out_pl.clear_output()\n",
    "with out_pl: interact_manual(on_click_bfs, start= start_dropdown_widget,end= end_dropdown_widget)"
   ]
  },
  {
   "cell_type": "code",
   "execution_count": 33,
   "metadata": {},
   "outputs": [],
   "source": [
    "file = open(\"data/mundi.jpg\", \"rb\")\n",
    "img = file.read()\n",
    "img_widget = widgets.Image(\n",
    "    value=img,\n",
    "    format='png',\n",
    "    width=700,\n",
    "    height=1000,\n",
    ")"
   ]
  },
  {
   "cell_type": "code",
   "execution_count": 34,
   "metadata": {},
   "outputs": [],
   "source": [
    "k = widgets.VBox([widgets.Label('Turista!'), out_pl])"
   ]
  },
  {
   "cell_type": "code",
   "execution_count": 35,
   "metadata": {},
   "outputs": [
    {
     "data": {
      "application/vnd.jupyter.widget-view+json": {
       "model_id": "90ebf5b2371e47aba21595073cd680e6",
       "version_major": 2,
       "version_minor": 0
      },
      "text/plain": [
       "VBox(children=(Label(value='Turista!'), Output(outputs=({'output_type': 'display_data', 'data': {'text/plain':…"
      ]
     },
     "metadata": {},
     "output_type": "display_data"
    }
   ],
   "source": [
    "k"
   ]
  }
 ],
 "metadata": {
  "kernelspec": {
   "display_name": "grafos_env",
   "language": "python",
   "name": "grafos_env"
  },
  "language_info": {
   "codemirror_mode": {
    "name": "ipython",
    "version": 3
   },
   "file_extension": ".py",
   "mimetype": "text/x-python",
   "name": "python",
   "nbconvert_exporter": "python",
   "pygments_lexer": "ipython3",
   "version": "3.7.2"
  }
 },
 "nbformat": 4,
 "nbformat_minor": 2
}
