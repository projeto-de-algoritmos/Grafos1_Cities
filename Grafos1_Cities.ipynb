{
 "cells": [
  {
   "cell_type": "markdown",
   "metadata": {},
   "source": [
    "**Autores**: \n",
    "1. Caio Fernandes - 170138798\n",
    "2. Lucas Dutras - 170050939\n",
    "\n",
    "Este projeto tem como objetivo utilizar `jupyter notebook` e a biblioteca `pandas` juntamente com o conteúdo de **Percorrer Grafos** para indicar qual o caminho mais rápido para chegar em um país a partir de um país inicial.\n",
    "\n",
    "Utilizaremos para isso dois datasets disponibilizados no Kaggle com informações sobre [Países e Fronteiras](https://www.kaggle.com/resheto/country-borders) e [Países e Continentes](https://www.kaggle.com/tomvebrcz/countriesandcontinents)."
   ]
  },
  {
   "cell_type": "code",
   "execution_count": 158,
   "metadata": {
    "scrolled": true
   },
   "outputs": [],
   "source": [
    "from metaflow import Flow, get_metadata\n",
    "from collections import defaultdict\n",
    "from holoviews import opts\n",
    "import pandas as pd\n",
    "import networkx as nx\n",
    "import matplotlib.pyplot as plt\n",
    "import numpy as np\n",
    "import pandas as pd\n",
    "import holoviews as hv\n",
    "import networkx as nx\n",
    "import ipywidgets as widgets"
   ]
  },
  {
   "cell_type": "code",
   "execution_count": 159,
   "metadata": {
    "scrolled": true
   },
   "outputs": [],
   "source": [
    "run = Flow('TouristPreProcessing').latest_successful_run"
   ]
  },
  {
   "cell_type": "markdown",
   "metadata": {},
   "source": [
    "# Bem-vindo ao Turista!\n",
    "Turista é uma aplicação para quem quer fazer viagens internacionais sem apreciando a paisagem de cada país! Insira o país de origem e o país de destino e descubra a melhor rota para sua viagem!\n",
    "![mapa](data/mundi.jpg)"
   ]
  },
  {
   "cell_type": "markdown",
   "metadata": {},
   "source": [
    "# Implementando Lista de Adjacência para formar a rede de Grafo"
   ]
  },
  {
   "cell_type": "markdown",
   "metadata": {},
   "source": [
    "## Insira o nome do País de origem!"
   ]
  },
  {
   "cell_type": "code",
   "execution_count": 160,
   "metadata": {},
   "outputs": [
    {
     "data": {
      "application/vnd.jupyter.widget-view+json": {
       "model_id": "ccfe6ada549d4e8db6adbb3608cca25e",
       "version_major": 2,
       "version_minor": 0
      },
      "text/plain": [
       "Dropdown(options=('Afghanistan', 'Albania', 'Algeria', 'Andorra', 'Angola', 'Argentina', 'Armenia', 'Austria',…"
      ]
     },
     "metadata": {},
     "output_type": "display_data"
    }
   ],
   "source": [
    "def unique_sorted_values():\n",
    "    unique = run.data.df_border.country_name.unique()\n",
    "    unique.sort()\n",
    "    return unique\n",
    "widgets.Dropdown(options = unique_sorted_values())"
   ]
  },
  {
   "cell_type": "code",
   "execution_count": 161,
   "metadata": {
    "scrolled": true
   },
   "outputs": [
    {
     "name": "stdout",
     "output_type": "stream",
     "text": [
      "Escreva um país de PARTIDA! De acordo com a lista acima: US\n"
     ]
    }
   ],
   "source": [
    "start = input(\"Escreva um país de PARTIDA! De acordo com a lista acima: \")\n",
    "while start not in run.data.df_border.country_name.unique():\n",
    "    start = input(\"Escreva um país de PARTIDA! De acordo com a lista acima: \")"
   ]
  },
  {
   "cell_type": "code",
   "execution_count": 162,
   "metadata": {},
   "outputs": [
    {
     "name": "stdout",
     "output_type": "stream",
     "text": [
      "Escreva um país de CHEGADA! De acordo com a lista acima: Brazil\n"
     ]
    }
   ],
   "source": [
    "end = input(\"Escreva um país de CHEGADA! De acordo com a lista acima: \")\n",
    "while end not in run.data.df_border.country_name.unique():\n",
    "    end = input(\"Escreva um país de CHEGADA! De acordo com a lista acima: \")"
   ]
  },
  {
   "cell_type": "code",
   "execution_count": 163,
   "metadata": {},
   "outputs": [],
   "source": [
    "graph = defaultdict(list)\n",
    "for item in run.data.df_border.country_name.unique():\n",
    "    graph[item] = run.data.df_border.border_list[run.data.df_border.country_name==item].item()"
   ]
  },
  {
   "cell_type": "markdown",
   "metadata": {},
   "source": [
    "# Aplicando busca em largura - Breadth First Search (BFS)"
   ]
  },
  {
   "cell_type": "code",
   "execution_count": 164,
   "metadata": {},
   "outputs": [],
   "source": [
    "visited = defaultdict()\n",
    "def backtrace(parent, start, end):\n",
    "    path = [end]\n",
    "    while path[-1] != start:\n",
    "        path.append(parent[path[-1]])\n",
    "    path.reverse()\n",
    "    return path\n",
    "\n",
    "def bfs(graph, start, end):\n",
    "    parent = {}\n",
    "    queue = []\n",
    "    visited[start] = True\n",
    "    queue.append(start)\n",
    "    while queue:\n",
    "        node = queue.pop(0)\n",
    "        if node == end:\n",
    "            return backtrace(parent, start, end)\n",
    "        for adjacent in graph.get(node, []):\n",
    "                if adjacent not in visited.keys():\n",
    "                    if node not in queue :\n",
    "                        parent[adjacent] = node # <<<<< record its parent \n",
    "                        queue.append(adjacent)\n",
    "                        visited[adjacent] = True\n",
    "\n",
    "                        \n",
    "country_path = bfs(graph, start, end)\n",
    "if country_path:\n",
    "    resultant_tree = nx.Graph()\n",
    "    i, j = 0, 1\n",
    "    while j < len(country_path):\n",
    "        resultant_tree.add_edge(country_path[i], country_path[j])\n",
    "        i += 1\n",
    "        j += 1\n",
    "    file = open(\"data/happyTourist.png\", \"rb\")\n",
    "    image = file.read()\n",
    "    resultant_image = widgets.Image(\n",
    "                                value=image,\n",
    "                                format='png',\n",
    "                                width=300,\n",
    "                                height=400,\n",
    "                            )\n",
    "else:\n",
    "    file = open(\"data/sadTourist.png\", \"rb\")\n",
    "    image = file.read()\n",
    "    resultant_image = widgets.Image(\n",
    "                                value=image,\n",
    "                                format='png',\n",
    "                                width=300,\n",
    "                                height=400,\n",
    "                            )"
   ]
  },
  {
   "cell_type": "code",
   "execution_count": 165,
   "metadata": {
    "scrolled": true
   },
   "outputs": [
    {
     "data": {
      "application/vnd.jupyter.widget-view+json": {
       "model_id": "32a52dfe49dc4700b7d6aa5cea3a2402",
       "version_major": 2,
       "version_minor": 0
      },
      "text/plain": [
       "Image(value=b'\\x89PNG\\r\\n\\x1a\\n\\x00\\x00\\x00\\rIHDR\\x00\\x00\\x02\\x9d\\x00\\x00\\x02\\x9a\\x08\\x06\\x00\\x00\\x00|\\xd0\\xe2…"
      ]
     },
     "metadata": {},
     "output_type": "display_data"
    }
   ],
   "source": [
    "resultant_image"
   ]
  },
  {
   "cell_type": "markdown",
   "metadata": {},
   "source": [
    "## Visualização da árvore resultante da busca em largura"
   ]
  },
  {
   "cell_type": "code",
   "execution_count": 166,
   "metadata": {
    "scrolled": false
   },
   "outputs": [
    {
     "data": {
      "image/png": "[encoded data removed]",
      "text/plain": [
       "<Figure size 432x288 with 1 Axes>"
      ]
     },
     "metadata": {},
     "output_type": "display_data"
    }
   ],
   "source": [
    "if country_path:\n",
    "    nx.draw_networkx(resultant_tree)"
   ]
  },
  {
   "cell_type": "markdown",
   "metadata": {},
   "source": [
    "# Visualizando o grafo completo"
   ]
  },
  {
   "cell_type": "code",
   "execution_count": 167,
   "metadata": {},
   "outputs": [],
   "source": [
    "cities_graph = nx.Graph()\n",
    "\n",
    "cities_graph.add_nodes_from(list(graph.keys()))\n",
    "\n",
    "for city in list(graph.keys()):\n",
    "    for frontier in graph[city]:\n",
    "        cities_graph.add_edge(city,frontier)"
   ]
  },
  {
   "cell_type": "code",
   "execution_count": 168,
   "metadata": {},
   "outputs": [
    {
     "data": {},
     "metadata": {},
     "output_type": "display_data"
    },
    {
     "data": {
      "application/vnd.holoviews_exec.v0+json": "",
      "text/html": [
       "<div id='1557'>\n",
       "\n",
       "\n",
       "\n",
       "\n",
       "\n",
       "  <div class=\"bk-root\" id=\"685d6153-ba5e-4913-8c33-9e37920a23bd\" data-root-id=\"1557\"></div>\n",
       "</div>\n",
       "<script type=\"application/javascript\">(function(root) {\n",
       "  function embed_document(root) {\n",
       "  var docs_json = {\"f6787618-bcc4-480e-90c6-33005bd33382\":{\"roots\":{\"references\":[{\"attributes\":{},\"id\":\"1581\",\"type\":\"WheelZoomTool\"},{\"attributes\":{},\"id\":\"1569\",\"type\":\"LinearScale\"},{\"attributes\":{\"active_drag\":\"auto\",\"active_inspect\":\"auto\",\"active_multi\":null,\"active_scroll\":\"auto\",\"active_tap\":\"auto\",\"tools\":[{\"id\":\"1561\"},{\"id\":\"1579\"},{\"id\":\"1580\"},{\"id\":\"1581\"},{\"id\":\"1582\"},{\"id\":\"1583\"},{\"id\":\"1584\"}]},\"id\":\"1586\",\"type\":\"Toolbar\"},{\"attributes\":{},\"id\":\"1567\",\"type\":\"LinearScale\"},{\"attributes\":{\"data\":{\"index\":{\"__ndarray__\":\"AAAAAAEAAAACAAAAAwAAAAQAAAAFAAAABgAAAAcAAAAIAAAACQAAAAoAAAALAAAADAAAAA0AAAAOAAAADwAAABAAAAARAAAAEgAAABMAAAAUAAAAFQAAABYAAAAXAAAAGAAAABkAAAAaAAAAGwAAABwAAAAdAAAAHgAAAB8AAAAgAAAAIQAAACIAAAAjAAAAJAAAACUAAAAmAAAAJwAAACgAAAApAAAAKgAAACsAAAAsAAAALQAAAC4AAAAvAAAAMAAAADEAAAAyAAAAMwAAADQAAAA1AAAANgAAADcAAAA4AAAAOQAAADoAAAA7AAAAPAAAAD0AAAA+AAAAPwAAAEAAAABBAAAAQgAAAEMAAABEAAAARQAAAEYAAABHAAAASAAAAEkAAABKAAAASwAAAEwAAABNAAAATgAAAE8AAABQAAAAUQAAAFIAAABTAAAAVAAAAFUAAABWAAAAVwAAAFgAAABZAAAAWgAAAFsAAABcAAAAXQAAAF4AAABfAAAAYAAAAGEAAABiAAAAYwAAAGQAAABlAAAAZgAAAGcAAABoAAAAaQAAAGoAAABrAAAAbAAAAG0AAABuAAAAbwAAAHAAAABxAAAAcgAAAHMAAAB0AAAAdQAAAHYAAAB3AAAAeAAAAHkAAAB6AAAAewAAAHwAAAB9AAAAfgAAAH8AAACAAAAAgQAAAIIAAACDAAAAhAAAAIUAAACGAAAAhwAAAIgAAACJAAAAigAAAIsAAACMAAAAjQAAAI4AAACPAAAAkAAAAJEAAACSAAAAkwAAAJQAAACVAAAAlgAAAJcAAACYAAAAmQAAAJoAAACbAAAAnAAAAJ0AAACeAAAAnwAAAKAAAAChAAAAogAAAA==\",\"dtype\":\"int32\",\"order\":\"little\",\"shape\":[163]},\"index_hover\":[\"Afghanistan\",\"Albania\",\"Algeria\",\"Andorra\",\"Angola\",\"Argentina\",\"Armenia\",\"Austria\",\"Azerbaijan\",\"Bangladesh\",\"Belarus\",\"Belgium\",\"Belize\",\"Benin\",\"Bhutan\",\"Bolivia\",\"Bosnia and Herzegovina\",\"Botswana\",\"Brazil\",\"Brunei\",\"Bulgaria\",\"Burkina Faso\",\"Burundi\",\"Cambodia\",\"Cameroon\",\"Canada\",\"Central African Republic\",\"Chad\",\"Chile\",\"China\",\"Colombia\",\"Congo (Kinshasa)\",\"Congo (the Democratic Republic of the)\",\"Costa Rica\",\"Cote d'Ivoire\",\"Croatia\",\"Czechia\",\"Denmark\",\"Djibouti\",\"Dominican Republic\",\"Ecuador\",\"Egypt\",\"El Salvador\",\"Equatorial Guinea\",\"Eritrea\",\"Estonia\",\"Eswatini\",\"Ethiopia\",\"Finland\",\"France\",\"French Guiana\",\"Gabon\",\"Gambia\",\"Georgia\",\"Germany\",\"Ghana\",\"Gibraltar\",\"Greece\",\"Guatemala\",\"Guinea\",\"Guinea-Bissau\",\"Guyana\",\"Haiti\",\"Holy See\",\"Honduras\",\"Hong Kong\",\"Hungary\",\"India\",\"Indonesia\",\"Iran\",\"Iraq\",\"Ireland\",\"Israel\",\"Italy\",\"Jordan\",\"Kazakhstan\",\"Kenya\",\"Korea (Democratic People's Republic of)\",\"Korea, South\",\"Kuwait\",\"Kyrgyzstan\",\"Laos\",\"Latvia\",\"Lebanon\",\"Lesotho\",\"Liberia\",\"Libya\",\"Liechtenstein\",\"Lithuania\",\"Luxembourg\",\"Macao\",\"Malawi\",\"Malaysia\",\"Mali\",\"Mauritania\",\"Mexico\",\"Moldova\",\"Monaco\",\"Mongolia\",\"Montenegro\",\"Morocco\",\"Mozambique\",\"Myanmar\",\"Namibia\",\"Nepal\",\"Netherlands\",\"Nicaragua\",\"Niger\",\"Nigeria\",\"North Macedonia\",\"Norway\",\"Oman\",\"Pakistan\",\"Palestine, State of\",\"Panama\",\"Papua New Guinea\",\"Paraguay\",\"Peru\",\"Poland\",\"Portugal\",\"Qatar\",\"Romania\",\"Russia\",\"Rwanda\",\"Saint Martin (French part)\",\"San Marino\",\"Saudi Arabia\",\"Senegal\",\"Serbia\",\"Sierra Leone\",\"Sint Maarten (Dutch part)\",\"Slovakia\",\"Slovenia\",\"Somalia\",\"South Africa\",\"South Sudan\",\"Spain\",\"Sudan\",\"Suriname\",\"Sweden\",\"Switzerland\",\"Syria\",\"Tajikistan\",\"Tanzania\",\"Thailand\",\"Timor-Leste\",\"Togo\",\"Tunisia\",\"Turkey\",\"Turkmenistan\",\"US\",\"Uganda\",\"Ukraine\",\"United Arab Emirates\",\"United Kingdom\",\"Uruguay\",\"Uzbekistan\",\"Venezuela\",\"Vietnam\",\"Western Sahara\",\"Yemen\",\"Zambia\",\"Zimbabwe\"]},\"selected\":{\"id\":\"1631\"},\"selection_policy\":{\"id\":\"1630\"}},\"id\":\"1594\",\"type\":\"ColumnDataSource\"},{\"attributes\":{\"data_source\":{\"id\":\"1594\"},\"glyph\":{\"id\":\"1597\"},\"hover_glyph\":{\"id\":\"1599\"},\"muted_glyph\":null,\"nonselection_glyph\":{\"id\":\"1598\"},\"selection_glyph\":null,\"view\":{\"id\":\"1601\"}},\"id\":\"1600\",\"type\":\"GlyphRenderer\"},{\"attributes\":{},\"id\":\"1572\",\"type\":\"BasicTicker\"},{\"attributes\":{},\"id\":\"1616\",\"type\":\"NodesAndLinkedEdges\"},{\"attributes\":{\"data\":{\"end\":{\"__ndarray__\":\"nAAAAB0AAABFAAAAcAAAAI4AAACVAAAAgAAAAG0AAABjAAAAOQAAAF0AAACTAAAAawAAAFYAAABkAAAAnwAAAF4AAAAxAAAAiAAAAB8AAAAgAAAAZwAAAKEAAACbAAAAEgAAAA8AAAAcAAAAdAAAADUAAABFAAAAlAAAAAgAAACEAAAAJAAAADYAAABCAAAAVwAAAIMAAABJAAAAjAAAADUAAACUAAAARQAAAHoAAABmAAAAQwAAAHYAAABSAAAAWAAAAHoAAACYAAAANgAAAFkAAABpAAAAMQAAADoAAABfAAAAFQAAAGsAAABsAAAAkgAAAEMAAAAdAAAAEgAAAHUAAAB0AAAAHAAAACMAAACAAAAAYwAAAKIAAAChAAAAhgAAAGcAAACdAAAAigAAAJsAAAB0AAAAPQAAADIAAAAeAAAAdQAAAFwAAACUAAAAgAAAADkAAAB5AAAAbQAAACIAAACSAAAAawAAAF0AAAA3AAAAewAAACAAAACPAAAAkAAAAJ4AAABRAAAAGwAAAGwAAAAzAAAAKwAAAB8AAAAaAAAAlgAAABsAAAAfAAAAIAAAAIcAAACJAAAAiQAAAGsAAABsAAAAVgAAAHUAAACeAAAAjgAAAHoAAABwAAAAUAAAAE0AAABmAAAAUQAAAFoAAABiAAAAaAAAAEMAAABLAAAAQQAAAJ0AAAB1AAAAcgAAACgAAAAgAAAAMwAAAI8AAAB7AAAAhwAAAJcAAAChAAAAcgAAAGoAAAA3AAAAOwAAAFUAAABdAAAAQgAAAGMAAACAAAAAhAAAADYAAAB2AAAAgwAAADYAAAAvAAAALAAAAIUAAAA+AAAAdQAAAEgAAABWAAAAcQAAAIkAAAA6AAAAQAAAADMAAACJAAAALwAAAHoAAABSAAAAZQAAAIYAAACJAAAAhQAAAEwAAACHAAAAbgAAAHoAAACLAAAAiAAAAFkAAACMAAAAYQAAAEkAAAA2AAAAigAAAH8AAACUAAAAegAAAGkAAAB2AAAAjAAAAFkAAACSAAAAiAAAAJQAAABtAAAAXwAAAEAAAABVAAAAPAAAAF0AAACBAAAAfwAAAH8AAACKAAAAnQAAAEkAAABqAAAAhAAAAJgAAACDAAAAeQAAAIAAAABmAAAAaAAAAHAAAACRAAAAcwAAAFwAAACUAAAAlQAAAHAAAABGAAAASgAAAE8AAAB+AAAAjQAAAJQAAACaAAAASgAAAHEAAACNAAAAUwAAAIwAAAB9AAAAhAAAAI0AAAB+AAAAcQAAAHoAAACVAAAAUAAAAJwAAACFAAAAhwAAAI8AAACXAAAAegAAAE4AAAB+AAAAjgAAAJwAAACQAAAAngAAAGYAAAB6AAAAWAAAAI0AAACGAAAAgQAAAGsAAACJAAAAkwAAAIwAAAB2AAAAegAAAGUAAACPAAAAoQAAAJAAAABeAAAAfwAAAGsAAACfAAAAfwAAAJYAAACYAAAAeQAAAHoAAACAAAAAiAAAAJ8AAAChAAAAhgAAAKIAAACPAAAAkAAAAIYAAAChAAAAbAAAAIAAAAB6AAAAiwAAAKAAAAB+AAAAmQAAAHoAAACDAAAAmAAAAIgAAAB+AAAAgAAAAJgAAACYAAAAjwAAAJcAAACCAAAAmQAAAKAAAACYAAAAogAAAJcAAACJAAAAlAAAAJwAAACXAAAAoQAAAJwAAACiAAAA\",\"dtype\":\"int32\",\"order\":\"little\",\"shape\":[321]},\"start\":{\"__ndarray__\":\"AAAAAAAAAAAAAAAAAAAAAAAAAAAAAAAAAQAAAAEAAAABAAAAAQAAAAIAAAACAAAAAgAAAAIAAAACAAAAAgAAAAIAAAADAAAAAwAAAAQAAAAEAAAABAAAAAQAAAAFAAAABQAAAAUAAAAFAAAABQAAAAYAAAAGAAAABgAAAAYAAAAHAAAABwAAAAcAAAAHAAAABwAAAAcAAAAHAAAABwAAAAgAAAAIAAAACAAAAAgAAAAJAAAACQAAAAoAAAAKAAAACgAAAAoAAAAKAAAACwAAAAsAAAALAAAACwAAAAwAAAAMAAAADQAAAA0AAAANAAAADQAAAA4AAAAOAAAADwAAAA8AAAAPAAAADwAAABAAAAAQAAAAEAAAABEAAAARAAAAEQAAABEAAAASAAAAEgAAABIAAAASAAAAEgAAABIAAAASAAAAEgAAABMAAAAUAAAAFAAAABQAAAAUAAAAFAAAABUAAAAVAAAAFQAAABUAAAAVAAAAFgAAABYAAAAWAAAAFwAAABcAAAAXAAAAGAAAABgAAAAYAAAAGAAAABgAAAAYAAAAGQAAABoAAAAaAAAAGgAAABoAAAAaAAAAGwAAABsAAAAbAAAAGwAAABwAAAAdAAAAHQAAAB0AAAAdAAAAHQAAAB0AAAAdAAAAHQAAAB0AAAAdAAAAHQAAAB0AAAAdAAAAHQAAAB4AAAAeAAAAHgAAAB4AAAAfAAAAHwAAACAAAAAgAAAAIAAAACAAAAAgAAAAIQAAACEAAAAiAAAAIgAAACIAAAAiAAAAIwAAACMAAAAjAAAAIwAAACQAAAAkAAAAJAAAACUAAAAmAAAAJgAAACYAAAAnAAAAKAAAACkAAAApAAAAKQAAACkAAAAqAAAAKgAAACsAAAAsAAAALAAAAC0AAAAtAAAALgAAAC4AAAAvAAAALwAAAC8AAAAvAAAAMAAAADAAAAAwAAAAMQAAADEAAAAxAAAAMQAAADEAAAAxAAAAMgAAADQAAAA1AAAANQAAADYAAAA2AAAANgAAADYAAAA3AAAAOAAAADkAAAA5AAAAOgAAADoAAAA7AAAAOwAAADsAAAA7AAAAOwAAADwAAAA9AAAAPQAAAD8AAABAAAAAQgAAAEIAAABCAAAAQgAAAEIAAABDAAAAQwAAAEMAAABEAAAARAAAAEQAAABFAAAARQAAAEUAAABFAAAARgAAAEYAAABGAAAARgAAAEYAAABHAAAASAAAAEgAAABIAAAASAAAAEkAAABJAAAASQAAAEoAAABKAAAASgAAAEsAAABLAAAASwAAAEsAAABMAAAATAAAAEwAAABMAAAATQAAAE0AAABPAAAAUAAAAFAAAABRAAAAUQAAAFEAAABSAAAAUgAAAFMAAABUAAAAVQAAAFYAAABWAAAAVgAAAFcAAABYAAAAWAAAAFsAAABbAAAAWwAAAFwAAABdAAAAXQAAAF0AAABeAAAAXgAAAF8AAABgAAAAYAAAAGIAAABjAAAAZAAAAGQAAABlAAAAZQAAAGUAAABlAAAAZgAAAGcAAABnAAAAawAAAG0AAABuAAAAbgAAAG8AAABvAAAAbwAAAHYAAAB2AAAAdgAAAHcAAAB4AAAAeQAAAHkAAAB6AAAAewAAAHsAAAB8AAAAfgAAAH4AAACDAAAAhgAAAIcAAACHAAAAjQAAAI4AAACPAAAAjwAAAJUAAAChAAAA\",\"dtype\":\"int32\",\"order\":\"little\",\"shape\":[321]}},\"selected\":{\"id\":\"1633\"},\"selection_policy\":{\"id\":\"1632\"}},\"id\":\"1595\",\"type\":\"ColumnDataSource\"},{\"attributes\":{},\"id\":\"1618\",\"type\":\"NodesAndLinkedEdges\"},{\"attributes\":{\"children\":[{\"id\":\"1558\"},{\"id\":\"1562\"},{\"id\":\"1644\"}],\"margin\":[0,0,0,0],\"name\":\"Row03415\",\"tags\":[\"embedded\"]},\"id\":\"1557\",\"type\":\"Row\"},{\"attributes\":{},\"id\":\"1632\",\"type\":\"UnionRenderers\"},{\"attributes\":{},\"id\":\"1580\",\"type\":\"PanTool\"},{\"attributes\":{\"end\":0.7036393634784431,\"reset_end\":0.7036393634784431,\"reset_start\":-1.1548763057707676,\"start\":-1.1548763057707676,\"tags\":[[[\"x\",\"x\",null]]]},\"id\":\"1559\",\"type\":\"Range1d\"},{\"attributes\":{},\"id\":\"1623\",\"type\":\"BasicTickFormatter\"},{\"attributes\":{\"axis\":{\"id\":\"1571\"},\"grid_line_color\":null,\"ticker\":null},\"id\":\"1574\",\"type\":\"Grid\"},{\"attributes\":{\"axis_label\":\"y\",\"bounds\":\"auto\",\"formatter\":{\"id\":\"1623\"},\"major_label_orientation\":\"horizontal\",\"ticker\":{\"id\":\"1576\"}},\"id\":\"1575\",\"type\":\"LinearAxis\"},{\"attributes\":{},\"id\":\"1579\",\"type\":\"SaveTool\"},{\"attributes\":{\"edge_renderer\":{\"id\":\"1605\"},\"inspection_policy\":{\"id\":\"1618\"},\"layout_provider\":{\"id\":\"1596\"},\"node_renderer\":{\"id\":\"1600\"},\"selection_policy\":{\"id\":\"1616\"}},\"id\":\"1607\",\"type\":\"GraphRenderer\"},{\"attributes\":{},\"id\":\"1621\",\"type\":\"BasicTickFormatter\"},{\"attributes\":{\"graph_layout\":{\"0\":[0.12132880762726708,0.11182181566077193],\"1\":[-0.23800104077881523,0.06978506243614731],\"10\":[-0.08266386598872687,0.183567925835252],\"100\":[-0.28274422884305,-0.27280233207005145],\"101\":[0.4547449901812789,-0.16505074931601757],\"102\":[0.25763368515814816,0.27147732376718064],\"103\":[0.41737492395601244,-0.14892084935980554],\"104\":[0.20331045530013167,0.2528440489831413],\"105\":[-0.4025807503546298,0.147638199519746],\"106\":[0.2707797123451239,0.09282289081452623],\"107\":[-0.08377699819759026,-0.42560955327370814],\"108\":[0.0038872010033218665,-0.4157295664689758],\"109\":[-0.21138059233855844,0.06485380631771658],\"11\":[-0.39275652418832663,0.11088530191992682],\"110\":[0.01893392138377696,0.1266096165107252],\"111\":[-0.1263070683037632,-0.2668173713539426],\"112\":[0.1330234249409316,0.1338007149236815],\"113\":[-0.020845202227864533,-0.24581732270677648],\"114\":[0.08580244913611085,0.4163510918324585],\"115\":[0.5250987787280647,0.5976467222568171],\"116\":[-0.12152601763729487,0.7094272009297525],\"117\":[-0.05270541517127724,0.6432382796781249],\"118\":[-0.1558133689966599,0.17061459106723856],\"119\":[-0.4472048509140123,-0.1303593013194524],\"12\":[0.42740278240133006,-0.30921082840013425],\"120\":[-0.08368301448651884,-0.27366950764737014],\"121\":[-0.1886164632738652,0.15175029737378767],\"122\":[-0.0035985192524174356,0.16964216245760252],\"123\":[0.3529390997710521,-0.2678290337993549],\"124\":[-0.7663767514144164,0.6774093308661674],\"125\":[-0.3049816444532787,0.23377573005359006],\"126\":[-0.08737370109883738,-0.20979531796412534],\"127\":[-0.24311753710817735,-0.5419813135765118],\"128\":[-0.23568172631817402,0.11964638789055103],\"129\":[-0.30970661033176616,-0.6187252788297507],\"13\":[-0.09481401933856644,-0.4597319390518414],\"130\":[-0.7825409350593192,0.7031619103746533],\"131\":[-0.2097240507635479,0.19597079317371707],\"132\":[-0.2995736124921415,0.2004469067134465],\"133\":[0.2783275035860717,-0.3781175125117501],\"134\":[0.47908679262118536,-0.09813285926630447],\"135\":[0.23312020429306596,-0.31143326128672116],\"136\":[-0.37229672175013934,-0.11549673890934341],\"137\":[0.11299995749566867,-0.3449254704570048],\"138\":[-0.15678532895963207,0.6228709317276132],\"139\":[0.047104433921784004,0.09351045825633646],\"14\":[0.22049985336214,0.24138243657186273],\"140\":[-0.35761976978361,0.14233768005967748],\"141\":[-0.06274006582973556,-0.12064935942662793],\"142\":[0.1746145683827413,0.1453653054044677],\"143\":[0.37185737788006074,-0.23568875147658186],\"144\":[0.3279144335740049,0.35706875846523184],\"145\":[0.5487630577076755,0.5786536151403389],\"146\":[-0.16834112322582645,-0.4810361929462967],\"147\":[-0.10730180998883669,-0.3988895739068521],\"148\":[-0.06809937479832387,0.0033789522653687033],\"149\":[0.10121681848194257,0.08591609126310182],\"15\":[-0.08859578501538536,0.6865019948148305],\"150\":[0.3919244773284891,-0.468949023372422],\"151\":[0.3159824554379387,-0.28275966825679194],\"152\":[-0.13418115493721008,0.1841636628418663],\"153\":[-0.10904971041836363,-0.2796218935572948],\"154\":[0.5000787149858055,-0.6937997536696299],\"155\":[-0.14851163015052465,0.6915375235610098],\"156\":[0.14899390096844675,0.11792729922039509],\"157\":[-0.075429845525068,0.6076504389335229],\"158\":[0.229478911891445,0.2916321022221023],\"159\":[-0.2510309166689586,-0.370042775284222],\"16\":[-0.2937426527654654,0.14777739126655287],\"160\":[-0.1420537392337534,-0.25253527455769864],\"161\":[0.4008672231363499,-0.185402340711094],\"162\":[0.4748919082424856,-0.14478782654006955],\"17\":[0.4553503149959478,-0.1319154708395828],\"18\":[-0.10403302460902975,0.6391652617724709],\"19\":[0.467336973372971,0.4987321328562139],\"2\":[-0.17356089126136048,-0.38528844576226606],\"20\":[-0.16541621953869348,0.07129363140823951],\"21\":[-0.15614330295504938,-0.48436219877614856],\"22\":[0.37530631740505205,-0.2643255097654246],\"23\":[0.286827381052346,0.33779986403610646],\"24\":[0.12459554966152825,-0.36499422660063535],\"25\":[0.37608338119460255,-0.5475263773435994],\"26\":[0.17395533418698042,-0.3190948558353699],\"27\":[0.048354025957942415,-0.3754152880573522],\"28\":[-0.07012190810327525,0.708797326526122],\"29\":[0.16335048062313678,0.206236278861592],\"3\":[-0.40191631237189884,-0.03820893093881054],\"30\":[-0.01623607995383066,0.559012176679492],\"31\":[0.2279218158319927,-0.2929607583130417],\"32\":[0.3002846180501679,-0.2575673589726561],\"33\":[0.1807691564180042,0.2611360403545366],\"34\":[-0.22723901906846103,-0.5327105076455318],\"35\":[-0.27377120958577833,0.16144609889682687],\"36\":[-0.23852709867861766,0.16790245279389987],\"37\":[-0.392637493449791,0.1852172125908232],\"38\":[0.2434404856725419,-0.40983325599751075],\"39\":[-1.0,0.08462306794004376],\"4\":[0.3324208880460632,-0.21452912335768679],\"40\":[-0.012320389650249688,0.626030583189371],\"41\":[0.013143905204931057,-0.30214862189203917],\"42\":[0.3750309515139397,-0.15083615767850886],\"43\":[0.1572121428054401,-0.41503650543223825],\"44\":[0.18752918564346396,-0.39380651718990434],\"45\":[-0.010783777235378109,0.23214482161762734],\"46\":[0.5194931213451912,-0.12152190089695232],\"47\":[0.22236337891186758,-0.358559252127101],\"48\":[0.03318496253928816,0.1406215143879306],\"49\":[-0.37550702677924547,0.048252931934166264],\"5\":[-0.113041932542857,0.6953935850347824],\"50\":[-0.17636140302380054,0.6208391802696087],\"51\":[0.1825909989909986,-0.3642654705414896],\"52\":[-0.22701160027135509,-0.6046500906208716],\"53\":[-0.036936618937906916,0.07903847414359501],\"54\":[-0.3177374689854152,0.13764274092879433],\"55\":[-0.20834259797222154,-0.5065868969255355],\"56\":[-0.4362002440913395,-0.15450934092553548],\"57\":[-0.1658464053045339,0.03473385042572938],\"58\":[0.38594373794268483,-0.22902461539384594],\"59\":[-0.26003042367599133,-0.5643024756624917],\"6\":[-0.022142639358324338,0.031078758282485592],\"60\":[-0.27228658298003044,-0.6071369207335315],\"61\":[-0.12688612742160968,0.6353238952904334],\"62\":[-0.9469200361828319,0.08130695015284034],\"63\":[-0.3519212614971211,0.11026935465585436],\"64\":[0.33897456912703416,-0.07711738999410918],\"65\":[0.2406231582190657,0.1972670943715438],\"66\":[-0.23087808276474903,0.18208987374158309],\"67\":[0.21414646091636108,0.21263979501153762],\"68\":[0.49267508622771566,0.5388971951094742],\"69\":[0.03587178445256666,0.03668432363240404],\"7\":[-0.2907952644117635,0.18193009310139727],\"70\":[-0.040105097475152604,-0.09203305604693049],\"71\":[0.5359403635449314,-0.7429473168408627],\"72\":[-0.036896025671539746,-0.21298693958393503],\"73\":[-0.336850225504357,0.15425093319783287],\"74\":[-0.04851132082084249,-0.17724970365902945],\"75\":[0.10336991379803996,0.15372547435493616],\"76\":[0.29661146374745245,-0.313672643466809],\"77\":[0.08389634009351131,0.1992599652258387],\"78\":[0.11820911559859636,0.20214861540751675],\"79\":[-0.05749214676317777,-0.15714867182650116],\"8\":[-0.016858111303095814,0.06816295205047719],\"80\":[0.1604138142080523,0.16295061380718334],\"81\":[0.2561995574069335,0.29657048856896995],\"82\":[-0.04076803798084235,0.2117102935177754],\"83\":[-0.08231957554258121,-0.17610521063784065],\"84\":[0.48810840293343327,-0.0033393720567883667],\"85\":[-0.2866391467528887,-0.5866646803097306],\"86\":[-0.03120353624766605,-0.37263146413304893],\"87\":[-0.35758217932625497,0.20517460022405623],\"88\":[-0.0749799154842142,0.19713864859911384],\"89\":[-0.38624119061954076,0.0931883434480962],\"9\":[0.28674382835982914,0.2487204998697858],\"90\":[0.2408660475742062,0.22541639075871747],\"91\":[0.44103588397156324,-0.20795844884132522],\"92\":[0.42070320918847637,0.4561011375348905],\"93\":[-0.19493363125169333,-0.482386511609528],\"94\":[-0.2323669059340426,-0.45010891027351846],\"95\":[0.40480622552289547,-0.35665624888753744],\"96\":[-0.1736017215676065,0.21403697632842184],\"97\":[-0.45723535441223495,0.040325542471417224],\"98\":[0.07663279090168733,0.21529559953211558],\"99\":[-0.27828924468662075,0.1138557954020119]}},\"id\":\"1596\",\"type\":\"StaticLayoutProvider\"},{\"attributes\":{\"margin\":[5,5,5,5],\"name\":\"HSpacer03419\",\"sizing_mode\":\"stretch_width\"},\"id\":\"1558\",\"type\":\"Spacer\"},{\"attributes\":{\"source\":{\"id\":\"1595\"}},\"id\":\"1606\",\"type\":\"CDSView\"},{\"attributes\":{\"data_source\":{\"id\":\"1595\"},\"glyph\":{\"id\":\"1602\"},\"hover_glyph\":{\"id\":\"1604\"},\"muted_glyph\":null,\"nonselection_glyph\":{\"id\":\"1603\"},\"selection_glyph\":null,\"view\":{\"id\":\"1606\"}},\"id\":\"1605\",\"type\":\"GlyphRenderer\"},{\"attributes\":{\"fill_color\":{\"value\":\"#30a2da\"},\"size\":{\"units\":\"screen\",\"value\":15}},\"id\":\"1597\",\"type\":\"Circle\"},{\"attributes\":{\"fill_color\":{\"value\":\"limegreen\"},\"size\":{\"units\":\"screen\",\"value\":15}},\"id\":\"1599\",\"type\":\"Circle\"},{\"attributes\":{\"axis_label\":\"x\",\"bounds\":\"auto\",\"formatter\":{\"id\":\"1621\"},\"major_label_orientation\":\"horizontal\",\"ticker\":{\"id\":\"1572\"}},\"id\":\"1571\",\"type\":\"LinearAxis\"},{\"attributes\":{\"bottom_units\":\"screen\",\"fill_alpha\":0.5,\"fill_color\":\"lightgrey\",\"left_units\":\"screen\",\"level\":\"overlay\",\"line_alpha\":1.0,\"line_color\":\"black\",\"line_dash\":[4,4],\"line_width\":2,\"right_units\":\"screen\",\"top_units\":\"screen\"},\"id\":\"1585\",\"type\":\"BoxAnnotation\"},{\"attributes\":{\"axis\":{\"id\":\"1575\"},\"dimension\":1,\"grid_line_color\":null,\"ticker\":null},\"id\":\"1578\",\"type\":\"Grid\"},{\"attributes\":{\"line_color\":{\"value\":\"limegreen\"},\"line_width\":{\"value\":2}},\"id\":\"1604\",\"type\":\"MultiLine\"},{\"attributes\":{\"callback\":null},\"id\":\"1584\",\"type\":\"TapTool\"},{\"attributes\":{},\"id\":\"1630\",\"type\":\"UnionRenderers\"},{\"attributes\":{\"margin\":[5,5,5,5],\"name\":\"HSpacer03420\",\"sizing_mode\":\"stretch_width\"},\"id\":\"1644\",\"type\":\"Spacer\"},{\"attributes\":{},\"id\":\"1633\",\"type\":\"Selection\"},{\"attributes\":{\"callback\":null,\"renderers\":[{\"id\":\"1607\"}],\"tags\":[\"hv_created\"],\"tooltips\":[[\"index\",\"@{index_hover}\"]]},\"id\":\"1561\",\"type\":\"HoverTool\"},{\"attributes\":{\"line_alpha\":{\"value\":0.2},\"line_width\":{\"value\":2}},\"id\":\"1603\",\"type\":\"MultiLine\"},{\"attributes\":{},\"id\":\"1576\",\"type\":\"BasicTicker\"},{\"attributes\":{\"source\":{\"id\":\"1594\"}},\"id\":\"1601\",\"type\":\"CDSView\"},{\"attributes\":{\"end\":0.854664652706814,\"reset_end\":0.854664652706814,\"reset_start\":-0.8881847686179242,\"start\":-0.8881847686179242,\"tags\":[[[\"y\",\"y\",null]]]},\"id\":\"1560\",\"type\":\"Range1d\"},{\"attributes\":{},\"id\":\"1583\",\"type\":\"ResetTool\"},{\"attributes\":{\"line_width\":{\"value\":2}},\"id\":\"1602\",\"type\":\"MultiLine\"},{\"attributes\":{\"overlay\":{\"id\":\"1585\"}},\"id\":\"1582\",\"type\":\"BoxZoomTool\"},{\"attributes\":{},\"id\":\"1631\",\"type\":\"Selection\"},{\"attributes\":{\"fill_alpha\":{\"value\":0.2},\"fill_color\":{\"value\":\"#30a2da\"},\"line_alpha\":{\"value\":0.2},\"size\":{\"units\":\"screen\",\"value\":15}},\"id\":\"1598\",\"type\":\"Circle\"},{\"attributes\":{\"align\":null,\"below\":[{\"id\":\"1571\"}],\"center\":[{\"id\":\"1574\"},{\"id\":\"1578\"}],\"left\":[{\"id\":\"1575\"}],\"margin\":null,\"min_border_bottom\":10,\"min_border_left\":10,\"min_border_right\":10,\"min_border_top\":10,\"plot_height\":800,\"plot_width\":800,\"renderers\":[{\"id\":\"1607\"}],\"sizing_mode\":\"fixed\",\"title\":{\"id\":\"1563\"},\"toolbar\":{\"id\":\"1586\"},\"x_range\":{\"id\":\"1559\"},\"x_scale\":{\"id\":\"1567\"},\"y_range\":{\"id\":\"1560\"},\"y_scale\":{\"id\":\"1569\"}},\"id\":\"1562\",\"subtype\":\"Figure\",\"type\":\"Plot\"},{\"attributes\":{\"text\":\"\",\"text_color\":{\"value\":\"black\"},\"text_font_size\":{\"value\":\"12pt\"}},\"id\":\"1563\",\"type\":\"Title\"}],\"root_ids\":[\"1557\"]},\"title\":\"Bokeh Application\",\"version\":\"2.2.1\"}};\n",
       "  var render_items = [{\"docid\":\"f6787618-bcc4-480e-90c6-33005bd33382\",\"root_ids\":[\"1557\"],\"roots\":{\"1557\":\"685d6153-ba5e-4913-8c33-9e37920a23bd\"}}];\n",
       "  root.Bokeh.embed.embed_items_notebook(docs_json, render_items);\n",
       "  }\n",
       "if (root.Bokeh !== undefined) {\n",
       "    embed_document(root);\n",
       "  } else {\n",
       "    var attempts = 0;\n",
       "    var timer = setInterval(function(root) {\n",
       "      if (root.Bokeh !== undefined) {\n",
       "        clearInterval(timer);\n",
       "        embed_document(root);\n",
       "      } else if (document.readyState == \"complete\") {\n",
       "        attempts++;\n",
       "        if (attempts > 100) {\n",
       "          clearInterval(timer);\n",
       "          console.log(\"Bokeh: ERROR: Unable to run BokehJS code because BokehJS library is missing\");\n",
       "        }\n",
       "      }\n",
       "    }, 10, root)\n",
       "  }\n",
       "})(window);</script>"
      ],
      "text/plain": [
       ":Graph   [start,end]"
      ]
     },
     "execution_count": 168,
     "metadata": {
      "application/vnd.holoviews_exec.v0+json": {
       "id": "1557"
      }
     },
     "output_type": "execute_result"
    }
   ],
   "source": [
    "hv.Graph.from_networkx(cities_graph, nx.layout.spring_layout)"
   ]
  }
 ],
 "metadata": {
  "kernelspec": {
   "display_name": "Python 3.6.9 64-bit",
   "language": "python",
   "name": "python36964bit4bf181c8e99d423687e78064b5c2847f"
  },
  "language_info": {
   "codemirror_mode": {
    "name": "ipython",
    "version": 3
   },
   "file_extension": ".py",
   "mimetype": "text/x-python",
   "name": "python",
   "nbconvert_exporter": "python",
   "pygments_lexer": "ipython3",
   "version": "3.6.9"
  }
 },
 "nbformat": 4,
 "nbformat_minor": 2
}
