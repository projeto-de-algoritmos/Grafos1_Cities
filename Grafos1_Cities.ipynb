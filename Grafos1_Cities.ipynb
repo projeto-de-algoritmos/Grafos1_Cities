{
 "cells": [
  {
   "cell_type": "markdown",
   "metadata": {},
   "source": [
    "**Autores**: \n",
    "1. Caio Fernandes - 170138798\n",
    "2. Lucas Dutras - 170050939\n",
    "\n",
    "Este projeto tem como objetivo utilizar `jupyter notebook` e a biblioteca `pandas` juntamente com o conteúdo de **Percorrer Grafos** para indicar qual o caminho mais rápido para chegar em um país a partir de um país inicial.\n",
    "\n",
    "Utilizaremos para isso dois datasets disponibilizados no Kaggle com informações sobre [Países e Fronteiras](https://www.kaggle.com/resheto/country-borders) e [Países e Continentes](https://www.kaggle.com/tomvebrcz/countriesandcontinents)."
   ]
  },
  {
   "cell_type": "code",
   "execution_count": 1,
   "metadata": {},
   "outputs": [],
   "source": [
    "import pandas as pd"
   ]
  },
  {
   "cell_type": "code",
   "execution_count": 2,
   "metadata": {},
   "outputs": [],
   "source": [
    "df_border = pd.read_csv('./data/border_info.csv')\n",
    "df_continents = pd.read_csv('./data/countries.csv')\n",
    "df_border = df_border.sort_values(by=['country_name'])\n",
    "df_continents = df_continents.sort_values(by=['Country'])"
   ]
  },
  {
   "cell_type": "markdown",
   "metadata": {},
   "source": [
    "## Avaliação do Dado"
   ]
  },
  {
   "cell_type": "code",
   "execution_count": 3,
   "metadata": {},
   "outputs": [
    {
     "name": "stdout",
     "output_type": "stream",
     "text": [
      "<class 'pandas.core.frame.DataFrame'>\n",
      "Int64Index: 728 entries, 9 to 727\n",
      "Data columns (total 3 columns):\n",
      " #   Column               Non-Null Count  Dtype \n",
      "---  ------               --------------  ----- \n",
      " 0   Unnamed: 0           728 non-null    int64 \n",
      " 1   country_name         728 non-null    object\n",
      " 2   country_border_name  642 non-null    object\n",
      "dtypes: int64(1), object(2)\n",
      "memory usage: 22.8+ KB\n"
     ]
    }
   ],
   "source": [
    "df_border.info()"
   ]
  },
  {
   "cell_type": "markdown",
   "metadata": {},
   "source": [
    "## Limpando o dado "
   ]
  },
  {
   "cell_type": "markdown",
   "metadata": {},
   "source": [
    "Removendo países sem fronteira"
   ]
  },
  {
   "cell_type": "code",
   "execution_count": 4,
   "metadata": {},
   "outputs": [
    {
     "data": {
      "text/html": [
       "<div>\n",
       "<style scoped>\n",
       "    .dataframe tbody tr th:only-of-type {\n",
       "        vertical-align: middle;\n",
       "    }\n",
       "\n",
       "    .dataframe tbody tr th {\n",
       "        vertical-align: top;\n",
       "    }\n",
       "\n",
       "    .dataframe thead th {\n",
       "        text-align: right;\n",
       "    }\n",
       "</style>\n",
       "<table border=\"1\" class=\"dataframe\">\n",
       "  <thead>\n",
       "    <tr style=\"text-align: right;\">\n",
       "      <th></th>\n",
       "      <th>Unnamed: 0</th>\n",
       "      <th>country_name</th>\n",
       "      <th>country_border_name</th>\n",
       "    </tr>\n",
       "  </thead>\n",
       "  <tbody>\n",
       "    <tr>\n",
       "      <th>41</th>\n",
       "      <td>41</td>\n",
       "      <td>Aland Islands</td>\n",
       "      <td>NaN</td>\n",
       "    </tr>\n",
       "    <tr>\n",
       "      <th>30</th>\n",
       "      <td>30</td>\n",
       "      <td>American Samoa</td>\n",
       "      <td>NaN</td>\n",
       "    </tr>\n",
       "    <tr>\n",
       "      <th>11</th>\n",
       "      <td>11</td>\n",
       "      <td>Anguilla</td>\n",
       "      <td>NaN</td>\n",
       "    </tr>\n",
       "    <tr>\n",
       "      <th>24</th>\n",
       "      <td>24</td>\n",
       "      <td>Antarctica</td>\n",
       "      <td>NaN</td>\n",
       "    </tr>\n",
       "    <tr>\n",
       "      <th>10</th>\n",
       "      <td>10</td>\n",
       "      <td>Antigua and Barbuda</td>\n",
       "      <td>NaN</td>\n",
       "    </tr>\n",
       "    <tr>\n",
       "      <th>...</th>\n",
       "      <td>...</td>\n",
       "      <td>...</td>\n",
       "      <td>...</td>\n",
       "    </tr>\n",
       "    <tr>\n",
       "      <th>684</th>\n",
       "      <td>684</td>\n",
       "      <td>United States Minor Outlying Islands</td>\n",
       "      <td>NaN</td>\n",
       "    </tr>\n",
       "    <tr>\n",
       "      <th>704</th>\n",
       "      <td>704</td>\n",
       "      <td>Vanuatu</td>\n",
       "      <td>NaN</td>\n",
       "    </tr>\n",
       "    <tr>\n",
       "      <th>699</th>\n",
       "      <td>699</td>\n",
       "      <td>Virgin Islands (British)</td>\n",
       "      <td>NaN</td>\n",
       "    </tr>\n",
       "    <tr>\n",
       "      <th>700</th>\n",
       "      <td>700</td>\n",
       "      <td>Virgin Islands (U.S.)</td>\n",
       "      <td>NaN</td>\n",
       "    </tr>\n",
       "    <tr>\n",
       "      <th>705</th>\n",
       "      <td>705</td>\n",
       "      <td>Wallis and Futuna</td>\n",
       "      <td>NaN</td>\n",
       "    </tr>\n",
       "  </tbody>\n",
       "</table>\n",
       "<p>86 rows × 3 columns</p>\n",
       "</div>"
      ],
      "text/plain": [
       "     Unnamed: 0                          country_name country_border_name\n",
       "41           41                         Aland Islands                 NaN\n",
       "30           30                        American Samoa                 NaN\n",
       "11           11                              Anguilla                 NaN\n",
       "24           24                            Antarctica                 NaN\n",
       "10           10                   Antigua and Barbuda                 NaN\n",
       "..          ...                                   ...                 ...\n",
       "684         684  United States Minor Outlying Islands                 NaN\n",
       "704         704                               Vanuatu                 NaN\n",
       "699         699              Virgin Islands (British)                 NaN\n",
       "700         700                 Virgin Islands (U.S.)                 NaN\n",
       "705         705                     Wallis and Futuna                 NaN\n",
       "\n",
       "[86 rows x 3 columns]"
      ]
     },
     "execution_count": 4,
     "metadata": {},
     "output_type": "execute_result"
    }
   ],
   "source": [
    "is_NaN = df_border.isnull()\n",
    "row_has_NaN = is_NaN.any(axis=1)\n",
    "rows_with_NaN = df_border[row_has_NaN]\n",
    "rows_with_NaN"
   ]
  },
  {
   "cell_type": "markdown",
   "metadata": {},
   "source": [
    "Temos 86 países sem fronteiras no dado\n",
    "\n",
    "Removendo-os:"
   ]
  },
  {
   "cell_type": "code",
   "execution_count": 5,
   "metadata": {},
   "outputs": [],
   "source": [
    "df_border = df_border.drop(rows_with_NaN.index)"
   ]
  },
  {
   "cell_type": "markdown",
   "metadata": {},
   "source": [
    "Notamos que, neste dado em questão, temos 727 valores.\n",
    "Tal dado também apresenta duas colunas, uma `country_name` representando o país e outra chamada `coutry_border_name` que representa um fronteira daquele país."
   ]
  },
  {
   "cell_type": "code",
   "execution_count": 6,
   "metadata": {},
   "outputs": [
    {
     "data": {
      "text/html": [
       "<div>\n",
       "<style scoped>\n",
       "    .dataframe tbody tr th:only-of-type {\n",
       "        vertical-align: middle;\n",
       "    }\n",
       "\n",
       "    .dataframe tbody tr th {\n",
       "        vertical-align: top;\n",
       "    }\n",
       "\n",
       "    .dataframe thead th {\n",
       "        text-align: right;\n",
       "    }\n",
       "</style>\n",
       "<table border=\"1\" class=\"dataframe\">\n",
       "  <thead>\n",
       "    <tr style=\"text-align: right;\">\n",
       "      <th></th>\n",
       "      <th>Unnamed: 0</th>\n",
       "      <th>country_name</th>\n",
       "      <th>country_border_name</th>\n",
       "    </tr>\n",
       "  </thead>\n",
       "  <tbody>\n",
       "    <tr>\n",
       "      <th>9</th>\n",
       "      <td>9</td>\n",
       "      <td>Afghanistan</td>\n",
       "      <td>Uzbekistan</td>\n",
       "    </tr>\n",
       "    <tr>\n",
       "      <th>4</th>\n",
       "      <td>4</td>\n",
       "      <td>Afghanistan</td>\n",
       "      <td>China</td>\n",
       "    </tr>\n",
       "    <tr>\n",
       "      <th>5</th>\n",
       "      <td>5</td>\n",
       "      <td>Afghanistan</td>\n",
       "      <td>Iran</td>\n",
       "    </tr>\n",
       "    <tr>\n",
       "      <th>6</th>\n",
       "      <td>6</td>\n",
       "      <td>Afghanistan</td>\n",
       "      <td>Pakistan</td>\n",
       "    </tr>\n",
       "    <tr>\n",
       "      <th>7</th>\n",
       "      <td>7</td>\n",
       "      <td>Afghanistan</td>\n",
       "      <td>Tajikistan</td>\n",
       "    </tr>\n",
       "  </tbody>\n",
       "</table>\n",
       "</div>"
      ],
      "text/plain": [
       "   Unnamed: 0 country_name country_border_name\n",
       "9           9  Afghanistan          Uzbekistan\n",
       "4           4  Afghanistan               China\n",
       "5           5  Afghanistan                Iran\n",
       "6           6  Afghanistan            Pakistan\n",
       "7           7  Afghanistan          Tajikistan"
      ]
     },
     "execution_count": 6,
     "metadata": {},
     "output_type": "execute_result"
    }
   ],
   "source": [
    "df_border.head()"
   ]
  },
  {
   "cell_type": "markdown",
   "metadata": {},
   "source": [
    "Logo percebemos um problema, a maneira como o dado está organizado, nos trás informações duplicadas sobre países.\n",
    "Para corrigir este problema, faremos, para cada país, uma coluna com uma lista de todas as fronteiras.\n",
    "Com isso, teremos na estrutura do `DataFrame`, países únicos na coluna `country_name` com suas fronteiras listada na coluna `border_list`."
   ]
  },
  {
   "cell_type": "code",
   "execution_count": 7,
   "metadata": {},
   "outputs": [],
   "source": [
    "k = df_border.groupby('country_name')['country_border_name'].apply(lambda x: list(x))\n",
    "df_border = df_border.drop(columns=['country_border_name'])\n",
    "df_border = df_border.drop_duplicates(subset=['country_name'])\n",
    "aux = [item for item in k]\n",
    "df_border['border_list'] = aux"
   ]
  },
  {
   "cell_type": "markdown",
   "metadata": {},
   "source": [
    "Após transformarmos o dado inicial em menos linhas, é necessária a reindexação do dataframe."
   ]
  },
  {
   "cell_type": "code",
   "execution_count": 8,
   "metadata": {},
   "outputs": [],
   "source": [
    "df_border = df_border.reset_index()\n",
    "df_border = df_border.drop(columns=['Unnamed: 0', 'index'])"
   ]
  },
  {
   "cell_type": "markdown",
   "metadata": {},
   "source": [
    "## Cruzando as duas fontes de dados"
   ]
  },
  {
   "cell_type": "markdown",
   "metadata": {},
   "source": [
    "Agora, iremos cruzar os dados do dataset de fronteiras juntamente com o dataset de continentes, para, posteriormente, montarmos vários grafos, sendo cada um deles representante de um continente."
   ]
  },
  {
   "cell_type": "code",
   "execution_count": 9,
   "metadata": {
    "scrolled": true
   },
   "outputs": [],
   "source": [
    "df_continents['Region'] = df_continents['Region'].replace('LATIN', 'AMERICA')\n",
    "df_continents['Region'] = df_continents['Region'].replace('NORTHERN_AMERICA', 'AMERICA')\n",
    "df_continents['Region'] = df_continents['Region'].replace('NEAR_EAST', 'ASIA')\n",
    "border_l = df_border['country_name'].tolist()\n",
    "cont_l = df_continents['Country'].tolist()\n",
    "diff = []\n",
    "for item in cont_l:\n",
    "    if item in border_l:\n",
    "        continent = df_continents.loc[df_continents['Country'] == item]\n",
    "        continent = continent['Region']\n",
    "        for elem in continent.iteritems():\n",
    "            df_border.loc[df_border['country_name'] == item, 'continent'] = elem[1]"
   ]
  },
  {
   "cell_type": "markdown",
   "metadata": {},
   "source": [
    "Porém, como os dados provém de fontes diferentes e existe a possibilidade de haver nomeações diferentes para cada país, logo um conjunto de dados ficará sem a devida informação de continente."
   ]
  },
  {
   "cell_type": "code",
   "execution_count": 10,
   "metadata": {
    "scrolled": true
   },
   "outputs": [
    {
     "data": {
      "text/html": [
       "<div>\n",
       "<style scoped>\n",
       "    .dataframe tbody tr th:only-of-type {\n",
       "        vertical-align: middle;\n",
       "    }\n",
       "\n",
       "    .dataframe tbody tr th {\n",
       "        vertical-align: top;\n",
       "    }\n",
       "\n",
       "    .dataframe thead th {\n",
       "        text-align: right;\n",
       "    }\n",
       "</style>\n",
       "<table border=\"1\" class=\"dataframe\">\n",
       "  <thead>\n",
       "    <tr style=\"text-align: right;\">\n",
       "      <th></th>\n",
       "      <th>country_name</th>\n",
       "      <th>border_list</th>\n",
       "      <th>continent</th>\n",
       "    </tr>\n",
       "  </thead>\n",
       "  <tbody>\n",
       "    <tr>\n",
       "      <th>16</th>\n",
       "      <td>Bosnia and Herzegovina</td>\n",
       "      <td>[Croatia, Serbia, Montenegro]</td>\n",
       "      <td>NaN</td>\n",
       "    </tr>\n",
       "    <tr>\n",
       "      <th>26</th>\n",
       "      <td>Central African Republic</td>\n",
       "      <td>[Cameroon, Chad, Congo (Kinshasa), Congo (the ...</td>\n",
       "      <td>NaN</td>\n",
       "    </tr>\n",
       "    <tr>\n",
       "      <th>31</th>\n",
       "      <td>Congo (Kinshasa)</td>\n",
       "      <td>[Cameroon, Central African Republic, Congo (th...</td>\n",
       "      <td>NaN</td>\n",
       "    </tr>\n",
       "    <tr>\n",
       "      <th>32</th>\n",
       "      <td>Congo (the Democratic Republic of the)</td>\n",
       "      <td>[Burundi, Angola, Tanzania, Rwanda, South Suda...</td>\n",
       "      <td>NaN</td>\n",
       "    </tr>\n",
       "    <tr>\n",
       "      <th>34</th>\n",
       "      <td>Cote d'Ivoire</td>\n",
       "      <td>[Burkina Faso, Ghana, Guinea, Liberia, Mali]</td>\n",
       "      <td>NaN</td>\n",
       "    </tr>\n",
       "    <tr>\n",
       "      <th>36</th>\n",
       "      <td>Czechia</td>\n",
       "      <td>[Austria, Germany, Poland, Slovakia]</td>\n",
       "      <td>NaN</td>\n",
       "    </tr>\n",
       "    <tr>\n",
       "      <th>46</th>\n",
       "      <td>Eswatini</td>\n",
       "      <td>[Mozambique, South Africa]</td>\n",
       "      <td>NaN</td>\n",
       "    </tr>\n",
       "    <tr>\n",
       "      <th>63</th>\n",
       "      <td>Holy See</td>\n",
       "      <td>[Italy]</td>\n",
       "      <td>NaN</td>\n",
       "    </tr>\n",
       "    <tr>\n",
       "      <th>77</th>\n",
       "      <td>Korea (Democratic People's Republic of)</td>\n",
       "      <td>[Russia, Korea, South, China]</td>\n",
       "      <td>NaN</td>\n",
       "    </tr>\n",
       "    <tr>\n",
       "      <th>78</th>\n",
       "      <td>Korea, South</td>\n",
       "      <td>[Korea (Democratic People's Republic of)]</td>\n",
       "      <td>NaN</td>\n",
       "    </tr>\n",
       "    <tr>\n",
       "      <th>90</th>\n",
       "      <td>Macao</td>\n",
       "      <td>[China]</td>\n",
       "      <td>NaN</td>\n",
       "    </tr>\n",
       "    <tr>\n",
       "      <th>99</th>\n",
       "      <td>Montenegro</td>\n",
       "      <td>[Serbia, Albania, Bosnia and Herzegovina, Croa...</td>\n",
       "      <td>NaN</td>\n",
       "    </tr>\n",
       "    <tr>\n",
       "      <th>102</th>\n",
       "      <td>Myanmar</td>\n",
       "      <td>[Thailand, Laos, India, China, Bangladesh]</td>\n",
       "      <td>NaN</td>\n",
       "    </tr>\n",
       "    <tr>\n",
       "      <th>109</th>\n",
       "      <td>North Macedonia</td>\n",
       "      <td>[Greece, Serbia, Bulgaria, Albania]</td>\n",
       "      <td>NaN</td>\n",
       "    </tr>\n",
       "    <tr>\n",
       "      <th>113</th>\n",
       "      <td>Palestine, State of</td>\n",
       "      <td>[Jordan, Israel, Egypt]</td>\n",
       "      <td>NaN</td>\n",
       "    </tr>\n",
       "    <tr>\n",
       "      <th>124</th>\n",
       "      <td>Saint Martin (French part)</td>\n",
       "      <td>[Sint Maarten (Dutch part)]</td>\n",
       "      <td>NaN</td>\n",
       "    </tr>\n",
       "    <tr>\n",
       "      <th>130</th>\n",
       "      <td>Sint Maarten (Dutch part)</td>\n",
       "      <td>[Saint Martin (French part)]</td>\n",
       "      <td>NaN</td>\n",
       "    </tr>\n",
       "    <tr>\n",
       "      <th>134</th>\n",
       "      <td>South Africa</td>\n",
       "      <td>[Namibia, Mozambique, Lesotho, Botswana, Zimba...</td>\n",
       "      <td>NaN</td>\n",
       "    </tr>\n",
       "    <tr>\n",
       "      <th>135</th>\n",
       "      <td>South Sudan</td>\n",
       "      <td>[Uganda, Central African Republic, Sudan, Keny...</td>\n",
       "      <td>NaN</td>\n",
       "    </tr>\n",
       "    <tr>\n",
       "      <th>145</th>\n",
       "      <td>Timor-Leste</td>\n",
       "      <td>[Indonesia]</td>\n",
       "      <td>NaN</td>\n",
       "    </tr>\n",
       "    <tr>\n",
       "      <th>150</th>\n",
       "      <td>US</td>\n",
       "      <td>[Mexico, Canada]</td>\n",
       "      <td>NaN</td>\n",
       "    </tr>\n",
       "  </tbody>\n",
       "</table>\n",
       "</div>"
      ],
      "text/plain": [
       "                                country_name  \\\n",
       "16                    Bosnia and Herzegovina   \n",
       "26                  Central African Republic   \n",
       "31                          Congo (Kinshasa)   \n",
       "32    Congo (the Democratic Republic of the)   \n",
       "34                             Cote d'Ivoire   \n",
       "36                                   Czechia   \n",
       "46                                  Eswatini   \n",
       "63                                  Holy See   \n",
       "77   Korea (Democratic People's Republic of)   \n",
       "78                              Korea, South   \n",
       "90                                     Macao   \n",
       "99                                Montenegro   \n",
       "102                                  Myanmar   \n",
       "109                          North Macedonia   \n",
       "113                      Palestine, State of   \n",
       "124               Saint Martin (French part)   \n",
       "130                Sint Maarten (Dutch part)   \n",
       "134                             South Africa   \n",
       "135                              South Sudan   \n",
       "145                              Timor-Leste   \n",
       "150                                       US   \n",
       "\n",
       "                                           border_list continent  \n",
       "16                       [Croatia, Serbia, Montenegro]       NaN  \n",
       "26   [Cameroon, Chad, Congo (Kinshasa), Congo (the ...       NaN  \n",
       "31   [Cameroon, Central African Republic, Congo (th...       NaN  \n",
       "32   [Burundi, Angola, Tanzania, Rwanda, South Suda...       NaN  \n",
       "34        [Burkina Faso, Ghana, Guinea, Liberia, Mali]       NaN  \n",
       "36                [Austria, Germany, Poland, Slovakia]       NaN  \n",
       "46                          [Mozambique, South Africa]       NaN  \n",
       "63                                             [Italy]       NaN  \n",
       "77                       [Russia, Korea, South, China]       NaN  \n",
       "78           [Korea (Democratic People's Republic of)]       NaN  \n",
       "90                                             [China]       NaN  \n",
       "99   [Serbia, Albania, Bosnia and Herzegovina, Croa...       NaN  \n",
       "102         [Thailand, Laos, India, China, Bangladesh]       NaN  \n",
       "109                [Greece, Serbia, Bulgaria, Albania]       NaN  \n",
       "113                            [Jordan, Israel, Egypt]       NaN  \n",
       "124                        [Sint Maarten (Dutch part)]       NaN  \n",
       "130                       [Saint Martin (French part)]       NaN  \n",
       "134  [Namibia, Mozambique, Lesotho, Botswana, Zimba...       NaN  \n",
       "135  [Uganda, Central African Republic, Sudan, Keny...       NaN  \n",
       "145                                        [Indonesia]       NaN  \n",
       "150                                   [Mexico, Canada]       NaN  "
      ]
     },
     "execution_count": 10,
     "metadata": {},
     "output_type": "execute_result"
    }
   ],
   "source": [
    "is_NaN = df_border.isnull()\n",
    "row_has_NaN = is_NaN.any(axis=1)\n",
    "rows_with_NaN = df_border[row_has_NaN]\n",
    "rows_with_NaN"
   ]
  },
  {
   "cell_type": "markdown",
   "metadata": {},
   "source": [
    "Identificando os países que não estavam presentes com a mesma notação, agrupamos em grupos por continente e foi feita a atribuição devida para cada um dos sobressalentes."
   ]
  },
  {
   "cell_type": "code",
   "execution_count": 11,
   "metadata": {},
   "outputs": [],
   "source": [
    "eu = ['Bosnia and Herzegovina', 'Czechia', 'Holy See', 'Montenegro', 'North Macedonia']\n",
    "asia = ['Korea (Democratic People\\'s Republic of)', 'Korea, South', 'Macao', 'Myanmar', 'Palestine, State of', 'Timor-Leste']\n",
    "america = ['Saint Martin (French part)', 'Sint Maarten (Dutch part)', 'US']\n",
    "africa = ['Central African Republic', 'Congo (Kinshasa)', 'Congo (the Democratic Republic of the)', 'Cote d\\'Ivoire', 'Eswatini', 'South Africa', 'South Sudan']\n",
    "for country in eu:\n",
    "    df_border.loc[df_border['country_name'] == country, 'continent'] = 'EUROPE'\n",
    "for country in asia:\n",
    "    df_border.loc[df_border['country_name'] == country, 'continent'] = 'ASIA'\n",
    "for country in america:\n",
    "    df_border.loc[df_border['country_name'] == country, 'continent'] = 'AMERICA'\n",
    "for country in africa:\n",
    "    df_border.loc[df_border['country_name'] == country, 'continent'] = 'AFRICA'"
   ]
  },
  {
   "cell_type": "code",
   "execution_count": 12,
   "metadata": {},
   "outputs": [
    {
     "data": {
      "text/plain": [
       "AFRICA     57\n",
       "AMERICA    50\n",
       "EUROPE     50\n",
       "ASIA       49\n",
       "OCEANIA    21\n",
       "Name: Region, dtype: int64"
      ]
     },
     "execution_count": 12,
     "metadata": {},
     "output_type": "execute_result"
    }
   ],
   "source": [
    "df_continents['Region'].value_counts()"
   ]
  }
 ],
 "metadata": {
  "kernelspec": {
   "display_name": "Python 3.6.9 64-bit",
   "language": "python",
   "name": "python36964bit4bf181c8e99d423687e78064b5c2847f"
  },
  "language_info": {
   "codemirror_mode": {
    "name": "ipython",
    "version": 3
   },
   "file_extension": ".py",
   "mimetype": "text/x-python",
   "name": "python",
   "nbconvert_exporter": "python",
   "pygments_lexer": "ipython3",
   "version": "3.6.9"
  }
 },
 "nbformat": 4,
 "nbformat_minor": 2
}
